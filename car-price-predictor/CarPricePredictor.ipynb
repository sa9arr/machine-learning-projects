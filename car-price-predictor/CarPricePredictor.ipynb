{
 "cells": [
  {
   "cell_type": "code",
   "execution_count": 6,
   "id": "252a169e",
   "metadata": {},
   "outputs": [],
   "source": [
    "import pandas as pd"
   ]
  },
  {
   "cell_type": "code",
   "execution_count": 7,
   "id": "bdd5f274",
   "metadata": {},
   "outputs": [],
   "source": [
    "car=pd.read_csv('quikr_car.csv')"
   ]
  },
  {
   "cell_type": "code",
   "execution_count": 8,
   "id": "7bc33775",
   "metadata": {},
   "outputs": [],
   "source": [
    "backup=car.copy()"
   ]
  },
  {
   "cell_type": "code",
   "execution_count": 9,
   "id": "05b15cad",
   "metadata": {},
   "outputs": [],
   "source": [
    "car=car[car['year'].str.isnumeric()]"
   ]
  },
  {
   "cell_type": "code",
   "execution_count": 10,
   "id": "b84430b6",
   "metadata": {},
   "outputs": [],
   "source": [
    "car['year']=car['year'].astype(int)"
   ]
  },
  {
   "cell_type": "code",
   "execution_count": 11,
   "id": "0f56de54",
   "metadata": {},
   "outputs": [
    {
     "name": "stdout",
     "output_type": "stream",
     "text": [
      "<class 'pandas.core.frame.DataFrame'>\n",
      "Index: 842 entries, 0 to 891\n",
      "Data columns (total 6 columns):\n",
      " #   Column      Non-Null Count  Dtype \n",
      "---  ------      --------------  ----- \n",
      " 0   name        842 non-null    object\n",
      " 1   company     842 non-null    object\n",
      " 2   year        842 non-null    int64 \n",
      " 3   Price       842 non-null    object\n",
      " 4   kms_driven  840 non-null    object\n",
      " 5   fuel_type   837 non-null    object\n",
      "dtypes: int64(1), object(5)\n",
      "memory usage: 46.0+ KB\n"
     ]
    }
   ],
   "source": [
    "car.info()"
   ]
  },
  {
   "cell_type": "code",
   "execution_count": 12,
   "id": "15baf7ca",
   "metadata": {},
   "outputs": [],
   "source": [
    "car=car[car['Price']!=\"Ask For Price\"]"
   ]
  },
  {
   "cell_type": "code",
   "execution_count": 13,
   "id": "da1b6bd6",
   "metadata": {},
   "outputs": [],
   "source": [
    "car['Price']=car['Price'].str.replace(',','').astype(int)"
   ]
  },
  {
   "cell_type": "code",
   "execution_count": 22,
   "id": "737a3a21",
   "metadata": {},
   "outputs": [
    {
     "data": {
      "text/plain": [
       "(819, 6)"
      ]
     },
     "execution_count": 22,
     "metadata": {},
     "output_type": "execute_result"
    }
   ],
   "source": [
    "car.shape"
   ]
  },
  {
   "cell_type": "code",
   "execution_count": 14,
   "id": "07bacff9",
   "metadata": {},
   "outputs": [],
   "source": [
    "car['kms_driven']=car['kms_driven'].str.split(' ').str.get(0).str.replace(',','')"
   ]
  },
  {
   "cell_type": "code",
   "execution_count": 15,
   "id": "8400565e",
   "metadata": {},
   "outputs": [],
   "source": [
    "car=car[car['kms_driven'].str.isnumeric()]"
   ]
  },
  {
   "cell_type": "code",
   "execution_count": 30,
   "id": "21727a97",
   "metadata": {},
   "outputs": [
    {
     "data": {
      "text/plain": [
       "<bound method DataFrame.info of                                        name   company  year   Price   \n",
       "0      Hyundai Santro Xing XO eRLX Euro III   Hyundai  2007   80000  \\\n",
       "1                   Mahindra Jeep CL550 MDI  Mahindra  2006  425000   \n",
       "3    Hyundai Grand i10 Magna 1.2 Kappa VTVT   Hyundai  2014  325000   \n",
       "4          Ford EcoSport Titanium 1.5L TDCi      Ford  2014  575000   \n",
       "6                                 Ford Figo      Ford  2012  175000   \n",
       "..                                      ...       ...   ...     ...   \n",
       "883              Maruti Suzuki Ritz VXI ABS    Maruti  2011  270000   \n",
       "885               Tata Indica V2 DLE BS III      Tata  2009  110000   \n",
       "886                    Toyota Corolla Altis    Toyota  2009  300000   \n",
       "888                     Tata Zest XM Diesel      Tata  2018  260000   \n",
       "889                      Mahindra Quanto C8  Mahindra  2013  390000   \n",
       "\n",
       "    kms_driven fuel_type  \n",
       "0        45000    Petrol  \n",
       "1           40    Diesel  \n",
       "3        28000    Petrol  \n",
       "4        36000    Diesel  \n",
       "6        41000    Diesel  \n",
       "..         ...       ...  \n",
       "883      50000    Petrol  \n",
       "885      30000    Diesel  \n",
       "886     132000    Petrol  \n",
       "888      27000    Diesel  \n",
       "889      40000    Diesel  \n",
       "\n",
       "[817 rows x 6 columns]>"
      ]
     },
     "execution_count": 30,
     "metadata": {},
     "output_type": "execute_result"
    }
   ],
   "source": [
    "car.info\n"
   ]
  },
  {
   "cell_type": "code",
   "execution_count": 16,
   "id": "b9655903",
   "metadata": {},
   "outputs": [],
   "source": [
    "car['kms_driven']=car['kms_driven'].astype(int)"
   ]
  },
  {
   "cell_type": "code",
   "execution_count": 32,
   "id": "bb5e799f",
   "metadata": {},
   "outputs": [
    {
     "name": "stdout",
     "output_type": "stream",
     "text": [
      "<class 'pandas.core.frame.DataFrame'>\n",
      "Index: 817 entries, 0 to 889\n",
      "Data columns (total 6 columns):\n",
      " #   Column      Non-Null Count  Dtype \n",
      "---  ------      --------------  ----- \n",
      " 0   name        817 non-null    object\n",
      " 1   company     817 non-null    object\n",
      " 2   year        817 non-null    int64 \n",
      " 3   Price       817 non-null    int64 \n",
      " 4   kms_driven  817 non-null    int64 \n",
      " 5   fuel_type   816 non-null    object\n",
      "dtypes: int64(3), object(3)\n",
      "memory usage: 44.7+ KB\n"
     ]
    }
   ],
   "source": [
    "car.info(\n",
    ")"
   ]
  },
  {
   "cell_type": "code",
   "execution_count": 17,
   "id": "e8c0a807",
   "metadata": {},
   "outputs": [],
   "source": [
    "car=car[~car['fuel_type'].isna()]"
   ]
  },
  {
   "cell_type": "code",
   "execution_count": 35,
   "id": "b01643d8",
   "metadata": {},
   "outputs": [
    {
     "data": {
      "text/plain": [
       "<bound method DataFrame.info of                                        name   company  year   Price   \n",
       "0      Hyundai Santro Xing XO eRLX Euro III   Hyundai  2007   80000  \\\n",
       "1                   Mahindra Jeep CL550 MDI  Mahindra  2006  425000   \n",
       "3    Hyundai Grand i10 Magna 1.2 Kappa VTVT   Hyundai  2014  325000   \n",
       "4          Ford EcoSport Titanium 1.5L TDCi      Ford  2014  575000   \n",
       "6                                 Ford Figo      Ford  2012  175000   \n",
       "..                                      ...       ...   ...     ...   \n",
       "883              Maruti Suzuki Ritz VXI ABS    Maruti  2011  270000   \n",
       "885               Tata Indica V2 DLE BS III      Tata  2009  110000   \n",
       "886                    Toyota Corolla Altis    Toyota  2009  300000   \n",
       "888                     Tata Zest XM Diesel      Tata  2018  260000   \n",
       "889                      Mahindra Quanto C8  Mahindra  2013  390000   \n",
       "\n",
       "     kms_driven fuel_type  \n",
       "0         45000    Petrol  \n",
       "1            40    Diesel  \n",
       "3         28000    Petrol  \n",
       "4         36000    Diesel  \n",
       "6         41000    Diesel  \n",
       "..          ...       ...  \n",
       "883       50000    Petrol  \n",
       "885       30000    Diesel  \n",
       "886      132000    Petrol  \n",
       "888       27000    Diesel  \n",
       "889       40000    Diesel  \n",
       "\n",
       "[816 rows x 6 columns]>"
      ]
     },
     "execution_count": 35,
     "metadata": {},
     "output_type": "execute_result"
    }
   ],
   "source": [
    "car.info"
   ]
  },
  {
   "cell_type": "code",
   "execution_count": 18,
   "id": "74a59c29",
   "metadata": {},
   "outputs": [],
   "source": [
    "car['name']=car['name'].str.split(' ').str.slice(0,3).str.join(' ')"
   ]
  },
  {
   "cell_type": "code",
   "execution_count": 19,
   "id": "b1d797ca",
   "metadata": {},
   "outputs": [
    {
     "data": {
      "text/html": [
       "<div>\n",
       "<style scoped>\n",
       "    .dataframe tbody tr th:only-of-type {\n",
       "        vertical-align: middle;\n",
       "    }\n",
       "\n",
       "    .dataframe tbody tr th {\n",
       "        vertical-align: top;\n",
       "    }\n",
       "\n",
       "    .dataframe thead th {\n",
       "        text-align: right;\n",
       "    }\n",
       "</style>\n",
       "<table border=\"1\" class=\"dataframe\">\n",
       "  <thead>\n",
       "    <tr style=\"text-align: right;\">\n",
       "      <th></th>\n",
       "      <th>name</th>\n",
       "      <th>company</th>\n",
       "      <th>year</th>\n",
       "      <th>Price</th>\n",
       "      <th>kms_driven</th>\n",
       "      <th>fuel_type</th>\n",
       "    </tr>\n",
       "  </thead>\n",
       "  <tbody>\n",
       "    <tr>\n",
       "      <th>0</th>\n",
       "      <td>Hyundai Santro Xing</td>\n",
       "      <td>Hyundai</td>\n",
       "      <td>2007</td>\n",
       "      <td>80000</td>\n",
       "      <td>45000</td>\n",
       "      <td>Petrol</td>\n",
       "    </tr>\n",
       "    <tr>\n",
       "      <th>1</th>\n",
       "      <td>Mahindra Jeep CL550</td>\n",
       "      <td>Mahindra</td>\n",
       "      <td>2006</td>\n",
       "      <td>425000</td>\n",
       "      <td>40</td>\n",
       "      <td>Diesel</td>\n",
       "    </tr>\n",
       "    <tr>\n",
       "      <th>3</th>\n",
       "      <td>Hyundai Grand i10</td>\n",
       "      <td>Hyundai</td>\n",
       "      <td>2014</td>\n",
       "      <td>325000</td>\n",
       "      <td>28000</td>\n",
       "      <td>Petrol</td>\n",
       "    </tr>\n",
       "    <tr>\n",
       "      <th>4</th>\n",
       "      <td>Ford EcoSport Titanium</td>\n",
       "      <td>Ford</td>\n",
       "      <td>2014</td>\n",
       "      <td>575000</td>\n",
       "      <td>36000</td>\n",
       "      <td>Diesel</td>\n",
       "    </tr>\n",
       "    <tr>\n",
       "      <th>6</th>\n",
       "      <td>Ford Figo</td>\n",
       "      <td>Ford</td>\n",
       "      <td>2012</td>\n",
       "      <td>175000</td>\n",
       "      <td>41000</td>\n",
       "      <td>Diesel</td>\n",
       "    </tr>\n",
       "    <tr>\n",
       "      <th>...</th>\n",
       "      <td>...</td>\n",
       "      <td>...</td>\n",
       "      <td>...</td>\n",
       "      <td>...</td>\n",
       "      <td>...</td>\n",
       "      <td>...</td>\n",
       "    </tr>\n",
       "    <tr>\n",
       "      <th>883</th>\n",
       "      <td>Maruti Suzuki Ritz</td>\n",
       "      <td>Maruti</td>\n",
       "      <td>2011</td>\n",
       "      <td>270000</td>\n",
       "      <td>50000</td>\n",
       "      <td>Petrol</td>\n",
       "    </tr>\n",
       "    <tr>\n",
       "      <th>885</th>\n",
       "      <td>Tata Indica V2</td>\n",
       "      <td>Tata</td>\n",
       "      <td>2009</td>\n",
       "      <td>110000</td>\n",
       "      <td>30000</td>\n",
       "      <td>Diesel</td>\n",
       "    </tr>\n",
       "    <tr>\n",
       "      <th>886</th>\n",
       "      <td>Toyota Corolla Altis</td>\n",
       "      <td>Toyota</td>\n",
       "      <td>2009</td>\n",
       "      <td>300000</td>\n",
       "      <td>132000</td>\n",
       "      <td>Petrol</td>\n",
       "    </tr>\n",
       "    <tr>\n",
       "      <th>888</th>\n",
       "      <td>Tata Zest XM</td>\n",
       "      <td>Tata</td>\n",
       "      <td>2018</td>\n",
       "      <td>260000</td>\n",
       "      <td>27000</td>\n",
       "      <td>Diesel</td>\n",
       "    </tr>\n",
       "    <tr>\n",
       "      <th>889</th>\n",
       "      <td>Mahindra Quanto C8</td>\n",
       "      <td>Mahindra</td>\n",
       "      <td>2013</td>\n",
       "      <td>390000</td>\n",
       "      <td>40000</td>\n",
       "      <td>Diesel</td>\n",
       "    </tr>\n",
       "  </tbody>\n",
       "</table>\n",
       "<p>816 rows × 6 columns</p>\n",
       "</div>"
      ],
      "text/plain": [
       "                       name   company  year   Price  kms_driven fuel_type\n",
       "0       Hyundai Santro Xing   Hyundai  2007   80000       45000    Petrol\n",
       "1       Mahindra Jeep CL550  Mahindra  2006  425000          40    Diesel\n",
       "3         Hyundai Grand i10   Hyundai  2014  325000       28000    Petrol\n",
       "4    Ford EcoSport Titanium      Ford  2014  575000       36000    Diesel\n",
       "6                 Ford Figo      Ford  2012  175000       41000    Diesel\n",
       "..                      ...       ...   ...     ...         ...       ...\n",
       "883      Maruti Suzuki Ritz    Maruti  2011  270000       50000    Petrol\n",
       "885          Tata Indica V2      Tata  2009  110000       30000    Diesel\n",
       "886    Toyota Corolla Altis    Toyota  2009  300000      132000    Petrol\n",
       "888            Tata Zest XM      Tata  2018  260000       27000    Diesel\n",
       "889      Mahindra Quanto C8  Mahindra  2013  390000       40000    Diesel\n",
       "\n",
       "[816 rows x 6 columns]"
      ]
     },
     "execution_count": 19,
     "metadata": {},
     "output_type": "execute_result"
    }
   ],
   "source": [
    "car"
   ]
  },
  {
   "cell_type": "code",
   "execution_count": 48,
   "id": "6f8a2e5f",
   "metadata": {},
   "outputs": [
    {
     "data": {
      "text/html": [
       "<div>\n",
       "<style scoped>\n",
       "    .dataframe tbody tr th:only-of-type {\n",
       "        vertical-align: middle;\n",
       "    }\n",
       "\n",
       "    .dataframe tbody tr th {\n",
       "        vertical-align: top;\n",
       "    }\n",
       "\n",
       "    .dataframe thead th {\n",
       "        text-align: right;\n",
       "    }\n",
       "</style>\n",
       "<table border=\"1\" class=\"dataframe\">\n",
       "  <thead>\n",
       "    <tr style=\"text-align: right;\">\n",
       "      <th></th>\n",
       "      <th>name</th>\n",
       "      <th>company</th>\n",
       "      <th>year</th>\n",
       "      <th>Price</th>\n",
       "      <th>kms_driven</th>\n",
       "      <th>fuel_type</th>\n",
       "    </tr>\n",
       "  </thead>\n",
       "  <tbody>\n",
       "    <tr>\n",
       "      <th>0</th>\n",
       "      <td>Hyundai Santro Xing</td>\n",
       "      <td>Hyundai</td>\n",
       "      <td>2007</td>\n",
       "      <td>80000</td>\n",
       "      <td>45000</td>\n",
       "      <td>Petrol</td>\n",
       "    </tr>\n",
       "    <tr>\n",
       "      <th>1</th>\n",
       "      <td>Mahindra Jeep CL550</td>\n",
       "      <td>Mahindra</td>\n",
       "      <td>2006</td>\n",
       "      <td>425000</td>\n",
       "      <td>40</td>\n",
       "      <td>Diesel</td>\n",
       "    </tr>\n",
       "    <tr>\n",
       "      <th>2</th>\n",
       "      <td>Hyundai Grand i10</td>\n",
       "      <td>Hyundai</td>\n",
       "      <td>2014</td>\n",
       "      <td>325000</td>\n",
       "      <td>28000</td>\n",
       "      <td>Petrol</td>\n",
       "    </tr>\n",
       "    <tr>\n",
       "      <th>3</th>\n",
       "      <td>Ford EcoSport Titanium</td>\n",
       "      <td>Ford</td>\n",
       "      <td>2014</td>\n",
       "      <td>575000</td>\n",
       "      <td>36000</td>\n",
       "      <td>Diesel</td>\n",
       "    </tr>\n",
       "    <tr>\n",
       "      <th>4</th>\n",
       "      <td>Ford Figo</td>\n",
       "      <td>Ford</td>\n",
       "      <td>2012</td>\n",
       "      <td>175000</td>\n",
       "      <td>41000</td>\n",
       "      <td>Diesel</td>\n",
       "    </tr>\n",
       "    <tr>\n",
       "      <th>...</th>\n",
       "      <td>...</td>\n",
       "      <td>...</td>\n",
       "      <td>...</td>\n",
       "      <td>...</td>\n",
       "      <td>...</td>\n",
       "      <td>...</td>\n",
       "    </tr>\n",
       "    <tr>\n",
       "      <th>811</th>\n",
       "      <td>Maruti Suzuki Ritz</td>\n",
       "      <td>Maruti</td>\n",
       "      <td>2011</td>\n",
       "      <td>270000</td>\n",
       "      <td>50000</td>\n",
       "      <td>Petrol</td>\n",
       "    </tr>\n",
       "    <tr>\n",
       "      <th>812</th>\n",
       "      <td>Tata Indica V2</td>\n",
       "      <td>Tata</td>\n",
       "      <td>2009</td>\n",
       "      <td>110000</td>\n",
       "      <td>30000</td>\n",
       "      <td>Diesel</td>\n",
       "    </tr>\n",
       "    <tr>\n",
       "      <th>813</th>\n",
       "      <td>Toyota Corolla Altis</td>\n",
       "      <td>Toyota</td>\n",
       "      <td>2009</td>\n",
       "      <td>300000</td>\n",
       "      <td>132000</td>\n",
       "      <td>Petrol</td>\n",
       "    </tr>\n",
       "    <tr>\n",
       "      <th>814</th>\n",
       "      <td>Tata Zest XM</td>\n",
       "      <td>Tata</td>\n",
       "      <td>2018</td>\n",
       "      <td>260000</td>\n",
       "      <td>27000</td>\n",
       "      <td>Diesel</td>\n",
       "    </tr>\n",
       "    <tr>\n",
       "      <th>815</th>\n",
       "      <td>Mahindra Quanto C8</td>\n",
       "      <td>Mahindra</td>\n",
       "      <td>2013</td>\n",
       "      <td>390000</td>\n",
       "      <td>40000</td>\n",
       "      <td>Diesel</td>\n",
       "    </tr>\n",
       "  </tbody>\n",
       "</table>\n",
       "<p>816 rows × 6 columns</p>\n",
       "</div>"
      ],
      "text/plain": [
       "                       name   company  year   Price  kms_driven fuel_type\n",
       "0       Hyundai Santro Xing   Hyundai  2007   80000       45000    Petrol\n",
       "1       Mahindra Jeep CL550  Mahindra  2006  425000          40    Diesel\n",
       "2         Hyundai Grand i10   Hyundai  2014  325000       28000    Petrol\n",
       "3    Ford EcoSport Titanium      Ford  2014  575000       36000    Diesel\n",
       "4                 Ford Figo      Ford  2012  175000       41000    Diesel\n",
       "..                      ...       ...   ...     ...         ...       ...\n",
       "811      Maruti Suzuki Ritz    Maruti  2011  270000       50000    Petrol\n",
       "812          Tata Indica V2      Tata  2009  110000       30000    Diesel\n",
       "813    Toyota Corolla Altis    Toyota  2009  300000      132000    Petrol\n",
       "814            Tata Zest XM      Tata  2018  260000       27000    Diesel\n",
       "815      Mahindra Quanto C8  Mahindra  2013  390000       40000    Diesel\n",
       "\n",
       "[816 rows x 6 columns]"
      ]
     },
     "execution_count": 48,
     "metadata": {},
     "output_type": "execute_result"
    }
   ],
   "source": [
    "car.reset_index(drop=True)"
   ]
  },
  {
   "cell_type": "code",
   "execution_count": 20,
   "id": "0fd75fa2",
   "metadata": {},
   "outputs": [],
   "source": [
    "car=car[car['Price']<6e6].reset_index(drop=True)"
   ]
  },
  {
   "cell_type": "code",
   "execution_count": 47,
   "id": "5ebe0aa3",
   "metadata": {},
   "outputs": [],
   "source": [
    "car.to_csv('Cleaned data.csv')"
   ]
  },
  {
   "cell_type": "code",
   "execution_count": 53,
   "id": "94ed493d",
   "metadata": {},
   "outputs": [],
   "source": [
    "#Buliding the model"
   ]
  },
  {
   "cell_type": "code",
   "execution_count": 50,
   "id": "d8c3a699",
   "metadata": {},
   "outputs": [],
   "source": [
    "X=car.drop(columns='Price')\n",
    "y=car['Price']"
   ]
  },
  {
   "cell_type": "code",
   "execution_count": 51,
   "id": "e3859c64",
   "metadata": {},
   "outputs": [],
   "source": [
    "from sklearn.model_selection import train_test_split\n",
    "X_train, x_test, y_train, y_test=train_test_split(X,y,train_size=0.2)\n",
    "from sklearn.linear_model import LinearRegression\n",
    "from sklearn.metrics import r2_score\n",
    "from sklearn.preprocessing import OneHotEncoder\n",
    "from sklearn.compose import make_column_transformer\n",
    "from sklearn.pipeline import make_pipeline"
   ]
  },
  {
   "cell_type": "code",
   "execution_count": 25,
   "id": "c147464e",
   "metadata": {},
   "outputs": [
    {
     "data": {
      "text/html": [
       "<style>#sk-container-id-2 {color: black;background-color: white;}#sk-container-id-2 pre{padding: 0;}#sk-container-id-2 div.sk-toggleable {background-color: white;}#sk-container-id-2 label.sk-toggleable__label {cursor: pointer;display: block;width: 100%;margin-bottom: 0;padding: 0.3em;box-sizing: border-box;text-align: center;}#sk-container-id-2 label.sk-toggleable__label-arrow:before {content: \"▸\";float: left;margin-right: 0.25em;color: #696969;}#sk-container-id-2 label.sk-toggleable__label-arrow:hover:before {color: black;}#sk-container-id-2 div.sk-estimator:hover label.sk-toggleable__label-arrow:before {color: black;}#sk-container-id-2 div.sk-toggleable__content {max-height: 0;max-width: 0;overflow: hidden;text-align: left;background-color: #f0f8ff;}#sk-container-id-2 div.sk-toggleable__content pre {margin: 0.2em;color: black;border-radius: 0.25em;background-color: #f0f8ff;}#sk-container-id-2 input.sk-toggleable__control:checked~div.sk-toggleable__content {max-height: 200px;max-width: 100%;overflow: auto;}#sk-container-id-2 input.sk-toggleable__control:checked~label.sk-toggleable__label-arrow:before {content: \"▾\";}#sk-container-id-2 div.sk-estimator input.sk-toggleable__control:checked~label.sk-toggleable__label {background-color: #d4ebff;}#sk-container-id-2 div.sk-label input.sk-toggleable__control:checked~label.sk-toggleable__label {background-color: #d4ebff;}#sk-container-id-2 input.sk-hidden--visually {border: 0;clip: rect(1px 1px 1px 1px);clip: rect(1px, 1px, 1px, 1px);height: 1px;margin: -1px;overflow: hidden;padding: 0;position: absolute;width: 1px;}#sk-container-id-2 div.sk-estimator {font-family: monospace;background-color: #f0f8ff;border: 1px dotted black;border-radius: 0.25em;box-sizing: border-box;margin-bottom: 0.5em;}#sk-container-id-2 div.sk-estimator:hover {background-color: #d4ebff;}#sk-container-id-2 div.sk-parallel-item::after {content: \"\";width: 100%;border-bottom: 1px solid gray;flex-grow: 1;}#sk-container-id-2 div.sk-label:hover label.sk-toggleable__label {background-color: #d4ebff;}#sk-container-id-2 div.sk-serial::before {content: \"\";position: absolute;border-left: 1px solid gray;box-sizing: border-box;top: 0;bottom: 0;left: 50%;z-index: 0;}#sk-container-id-2 div.sk-serial {display: flex;flex-direction: column;align-items: center;background-color: white;padding-right: 0.2em;padding-left: 0.2em;position: relative;}#sk-container-id-2 div.sk-item {position: relative;z-index: 1;}#sk-container-id-2 div.sk-parallel {display: flex;align-items: stretch;justify-content: center;background-color: white;position: relative;}#sk-container-id-2 div.sk-item::before, #sk-container-id-2 div.sk-parallel-item::before {content: \"\";position: absolute;border-left: 1px solid gray;box-sizing: border-box;top: 0;bottom: 0;left: 50%;z-index: -1;}#sk-container-id-2 div.sk-parallel-item {display: flex;flex-direction: column;z-index: 1;position: relative;background-color: white;}#sk-container-id-2 div.sk-parallel-item:first-child::after {align-self: flex-end;width: 50%;}#sk-container-id-2 div.sk-parallel-item:last-child::after {align-self: flex-start;width: 50%;}#sk-container-id-2 div.sk-parallel-item:only-child::after {width: 0;}#sk-container-id-2 div.sk-dashed-wrapped {border: 1px dashed gray;margin: 0 0.4em 0.5em 0.4em;box-sizing: border-box;padding-bottom: 0.4em;background-color: white;}#sk-container-id-2 div.sk-label label {font-family: monospace;font-weight: bold;display: inline-block;line-height: 1.2em;}#sk-container-id-2 div.sk-label-container {text-align: center;}#sk-container-id-2 div.sk-container {/* jupyter's `normalize.less` sets `[hidden] { display: none; }` but bootstrap.min.css set `[hidden] { display: none !important; }` so we also need the `!important` here to be able to override the default hidden behavior on the sphinx rendered scikit-learn.org. See: https://github.com/scikit-learn/scikit-learn/issues/21755 */display: inline-block !important;position: relative;}#sk-container-id-2 div.sk-text-repr-fallback {display: none;}</style><div id=\"sk-container-id-2\" class=\"sk-top-container\"><div class=\"sk-text-repr-fallback\"><pre>OneHotEncoder()</pre><b>In a Jupyter environment, please rerun this cell to show the HTML representation or trust the notebook. <br />On GitHub, the HTML representation is unable to render, please try loading this page with nbviewer.org.</b></div><div class=\"sk-container\" hidden><div class=\"sk-item\"><div class=\"sk-estimator sk-toggleable\"><input class=\"sk-toggleable__control sk-hidden--visually\" id=\"sk-estimator-id-2\" type=\"checkbox\" checked><label for=\"sk-estimator-id-2\" class=\"sk-toggleable__label sk-toggleable__label-arrow\">OneHotEncoder</label><div class=\"sk-toggleable__content\"><pre>OneHotEncoder()</pre></div></div></div></div></div>"
      ],
      "text/plain": [
       "OneHotEncoder()"
      ]
     },
     "execution_count": 25,
     "metadata": {},
     "output_type": "execute_result"
    }
   ],
   "source": [
    "ohe = OneHotEncoder()\n",
    "ohe.fit(X[['name','company','fuel_type']])"
   ]
  },
  {
   "cell_type": "code",
   "execution_count": 52,
   "id": "bdbc9459",
   "metadata": {},
   "outputs": [],
   "source": [
    "column_trans = make_column_transformer((OneHotEncoder(categories=ohe.categories_),['name','company','fuel_type']), remainder='passthrough')"
   ]
  },
  {
   "cell_type": "code",
   "execution_count": 38,
   "id": "966be167",
   "metadata": {},
   "outputs": [],
   "source": [
    "lr=LinearRegression()"
   ]
  },
  {
   "cell_type": "code",
   "execution_count": 53,
   "id": "fdf86454",
   "metadata": {},
   "outputs": [],
   "source": [
    "pipe=make_pipeline(column_trans,lr)"
   ]
  },
  {
   "cell_type": "code",
   "execution_count": 54,
   "id": "bb381f9d",
   "metadata": {},
   "outputs": [
    {
     "data": {
      "text/html": [
       "<style>#sk-container-id-5 {color: black;background-color: white;}#sk-container-id-5 pre{padding: 0;}#sk-container-id-5 div.sk-toggleable {background-color: white;}#sk-container-id-5 label.sk-toggleable__label {cursor: pointer;display: block;width: 100%;margin-bottom: 0;padding: 0.3em;box-sizing: border-box;text-align: center;}#sk-container-id-5 label.sk-toggleable__label-arrow:before {content: \"▸\";float: left;margin-right: 0.25em;color: #696969;}#sk-container-id-5 label.sk-toggleable__label-arrow:hover:before {color: black;}#sk-container-id-5 div.sk-estimator:hover label.sk-toggleable__label-arrow:before {color: black;}#sk-container-id-5 div.sk-toggleable__content {max-height: 0;max-width: 0;overflow: hidden;text-align: left;background-color: #f0f8ff;}#sk-container-id-5 div.sk-toggleable__content pre {margin: 0.2em;color: black;border-radius: 0.25em;background-color: #f0f8ff;}#sk-container-id-5 input.sk-toggleable__control:checked~div.sk-toggleable__content {max-height: 200px;max-width: 100%;overflow: auto;}#sk-container-id-5 input.sk-toggleable__control:checked~label.sk-toggleable__label-arrow:before {content: \"▾\";}#sk-container-id-5 div.sk-estimator input.sk-toggleable__control:checked~label.sk-toggleable__label {background-color: #d4ebff;}#sk-container-id-5 div.sk-label input.sk-toggleable__control:checked~label.sk-toggleable__label {background-color: #d4ebff;}#sk-container-id-5 input.sk-hidden--visually {border: 0;clip: rect(1px 1px 1px 1px);clip: rect(1px, 1px, 1px, 1px);height: 1px;margin: -1px;overflow: hidden;padding: 0;position: absolute;width: 1px;}#sk-container-id-5 div.sk-estimator {font-family: monospace;background-color: #f0f8ff;border: 1px dotted black;border-radius: 0.25em;box-sizing: border-box;margin-bottom: 0.5em;}#sk-container-id-5 div.sk-estimator:hover {background-color: #d4ebff;}#sk-container-id-5 div.sk-parallel-item::after {content: \"\";width: 100%;border-bottom: 1px solid gray;flex-grow: 1;}#sk-container-id-5 div.sk-label:hover label.sk-toggleable__label {background-color: #d4ebff;}#sk-container-id-5 div.sk-serial::before {content: \"\";position: absolute;border-left: 1px solid gray;box-sizing: border-box;top: 0;bottom: 0;left: 50%;z-index: 0;}#sk-container-id-5 div.sk-serial {display: flex;flex-direction: column;align-items: center;background-color: white;padding-right: 0.2em;padding-left: 0.2em;position: relative;}#sk-container-id-5 div.sk-item {position: relative;z-index: 1;}#sk-container-id-5 div.sk-parallel {display: flex;align-items: stretch;justify-content: center;background-color: white;position: relative;}#sk-container-id-5 div.sk-item::before, #sk-container-id-5 div.sk-parallel-item::before {content: \"\";position: absolute;border-left: 1px solid gray;box-sizing: border-box;top: 0;bottom: 0;left: 50%;z-index: -1;}#sk-container-id-5 div.sk-parallel-item {display: flex;flex-direction: column;z-index: 1;position: relative;background-color: white;}#sk-container-id-5 div.sk-parallel-item:first-child::after {align-self: flex-end;width: 50%;}#sk-container-id-5 div.sk-parallel-item:last-child::after {align-self: flex-start;width: 50%;}#sk-container-id-5 div.sk-parallel-item:only-child::after {width: 0;}#sk-container-id-5 div.sk-dashed-wrapped {border: 1px dashed gray;margin: 0 0.4em 0.5em 0.4em;box-sizing: border-box;padding-bottom: 0.4em;background-color: white;}#sk-container-id-5 div.sk-label label {font-family: monospace;font-weight: bold;display: inline-block;line-height: 1.2em;}#sk-container-id-5 div.sk-label-container {text-align: center;}#sk-container-id-5 div.sk-container {/* jupyter's `normalize.less` sets `[hidden] { display: none; }` but bootstrap.min.css set `[hidden] { display: none !important; }` so we also need the `!important` here to be able to override the default hidden behavior on the sphinx rendered scikit-learn.org. See: https://github.com/scikit-learn/scikit-learn/issues/21755 */display: inline-block !important;position: relative;}#sk-container-id-5 div.sk-text-repr-fallback {display: none;}</style><div id=\"sk-container-id-5\" class=\"sk-top-container\"><div class=\"sk-text-repr-fallback\"><pre>Pipeline(steps=[(&#x27;columntransformer&#x27;,\n",
       "                 ColumnTransformer(remainder=&#x27;passthrough&#x27;,\n",
       "                                   transformers=[(&#x27;onehotencoder&#x27;,\n",
       "                                                  OneHotEncoder(categories=[array([&#x27;Audi A3 Cabriolet&#x27;, &#x27;Audi A4 1.8&#x27;, &#x27;Audi A4 2.0&#x27;, &#x27;Audi A6 2.0&#x27;,\n",
       "       &#x27;Audi A8&#x27;, &#x27;Audi Q3 2.0&#x27;, &#x27;Audi Q5 2.0&#x27;, &#x27;Audi Q7&#x27;, &#x27;BMW 3 Series&#x27;,\n",
       "       &#x27;BMW 5 Series&#x27;, &#x27;BMW 7 Series&#x27;, &#x27;BMW X1&#x27;, &#x27;BMW X1 sDrive20d&#x27;,\n",
       "       &#x27;BMW X1 xDrive20d&#x27;, &#x27;Chevrolet Beat&#x27;, &#x27;Chevrolet Beat...\n",
       "                                                                            array([&#x27;Audi&#x27;, &#x27;BMW&#x27;, &#x27;Chevrolet&#x27;, &#x27;Datsun&#x27;, &#x27;Fiat&#x27;, &#x27;Force&#x27;, &#x27;Ford&#x27;,\n",
       "       &#x27;Hindustan&#x27;, &#x27;Honda&#x27;, &#x27;Hyundai&#x27;, &#x27;Jaguar&#x27;, &#x27;Jeep&#x27;, &#x27;Land&#x27;,\n",
       "       &#x27;Mahindra&#x27;, &#x27;Maruti&#x27;, &#x27;Mercedes&#x27;, &#x27;Mini&#x27;, &#x27;Mitsubishi&#x27;, &#x27;Nissan&#x27;,\n",
       "       &#x27;Renault&#x27;, &#x27;Skoda&#x27;, &#x27;Tata&#x27;, &#x27;Toyota&#x27;, &#x27;Volkswagen&#x27;, &#x27;Volvo&#x27;],\n",
       "      dtype=object),\n",
       "                                                                            array([&#x27;Diesel&#x27;, &#x27;LPG&#x27;, &#x27;Petrol&#x27;], dtype=object)]),\n",
       "                                                  [&#x27;name&#x27;, &#x27;company&#x27;,\n",
       "                                                   &#x27;fuel_type&#x27;])])),\n",
       "                (&#x27;linearregression&#x27;, LinearRegression())])</pre><b>In a Jupyter environment, please rerun this cell to show the HTML representation or trust the notebook. <br />On GitHub, the HTML representation is unable to render, please try loading this page with nbviewer.org.</b></div><div class=\"sk-container\" hidden><div class=\"sk-item sk-dashed-wrapped\"><div class=\"sk-label-container\"><div class=\"sk-label sk-toggleable\"><input class=\"sk-toggleable__control sk-hidden--visually\" id=\"sk-estimator-id-17\" type=\"checkbox\" ><label for=\"sk-estimator-id-17\" class=\"sk-toggleable__label sk-toggleable__label-arrow\">Pipeline</label><div class=\"sk-toggleable__content\"><pre>Pipeline(steps=[(&#x27;columntransformer&#x27;,\n",
       "                 ColumnTransformer(remainder=&#x27;passthrough&#x27;,\n",
       "                                   transformers=[(&#x27;onehotencoder&#x27;,\n",
       "                                                  OneHotEncoder(categories=[array([&#x27;Audi A3 Cabriolet&#x27;, &#x27;Audi A4 1.8&#x27;, &#x27;Audi A4 2.0&#x27;, &#x27;Audi A6 2.0&#x27;,\n",
       "       &#x27;Audi A8&#x27;, &#x27;Audi Q3 2.0&#x27;, &#x27;Audi Q5 2.0&#x27;, &#x27;Audi Q7&#x27;, &#x27;BMW 3 Series&#x27;,\n",
       "       &#x27;BMW 5 Series&#x27;, &#x27;BMW 7 Series&#x27;, &#x27;BMW X1&#x27;, &#x27;BMW X1 sDrive20d&#x27;,\n",
       "       &#x27;BMW X1 xDrive20d&#x27;, &#x27;Chevrolet Beat&#x27;, &#x27;Chevrolet Beat...\n",
       "                                                                            array([&#x27;Audi&#x27;, &#x27;BMW&#x27;, &#x27;Chevrolet&#x27;, &#x27;Datsun&#x27;, &#x27;Fiat&#x27;, &#x27;Force&#x27;, &#x27;Ford&#x27;,\n",
       "       &#x27;Hindustan&#x27;, &#x27;Honda&#x27;, &#x27;Hyundai&#x27;, &#x27;Jaguar&#x27;, &#x27;Jeep&#x27;, &#x27;Land&#x27;,\n",
       "       &#x27;Mahindra&#x27;, &#x27;Maruti&#x27;, &#x27;Mercedes&#x27;, &#x27;Mini&#x27;, &#x27;Mitsubishi&#x27;, &#x27;Nissan&#x27;,\n",
       "       &#x27;Renault&#x27;, &#x27;Skoda&#x27;, &#x27;Tata&#x27;, &#x27;Toyota&#x27;, &#x27;Volkswagen&#x27;, &#x27;Volvo&#x27;],\n",
       "      dtype=object),\n",
       "                                                                            array([&#x27;Diesel&#x27;, &#x27;LPG&#x27;, &#x27;Petrol&#x27;], dtype=object)]),\n",
       "                                                  [&#x27;name&#x27;, &#x27;company&#x27;,\n",
       "                                                   &#x27;fuel_type&#x27;])])),\n",
       "                (&#x27;linearregression&#x27;, LinearRegression())])</pre></div></div></div><div class=\"sk-serial\"><div class=\"sk-item sk-dashed-wrapped\"><div class=\"sk-label-container\"><div class=\"sk-label sk-toggleable\"><input class=\"sk-toggleable__control sk-hidden--visually\" id=\"sk-estimator-id-18\" type=\"checkbox\" ><label for=\"sk-estimator-id-18\" class=\"sk-toggleable__label sk-toggleable__label-arrow\">columntransformer: ColumnTransformer</label><div class=\"sk-toggleable__content\"><pre>ColumnTransformer(remainder=&#x27;passthrough&#x27;,\n",
       "                  transformers=[(&#x27;onehotencoder&#x27;,\n",
       "                                 OneHotEncoder(categories=[array([&#x27;Audi A3 Cabriolet&#x27;, &#x27;Audi A4 1.8&#x27;, &#x27;Audi A4 2.0&#x27;, &#x27;Audi A6 2.0&#x27;,\n",
       "       &#x27;Audi A8&#x27;, &#x27;Audi Q3 2.0&#x27;, &#x27;Audi Q5 2.0&#x27;, &#x27;Audi Q7&#x27;, &#x27;BMW 3 Series&#x27;,\n",
       "       &#x27;BMW 5 Series&#x27;, &#x27;BMW 7 Series&#x27;, &#x27;BMW X1&#x27;, &#x27;BMW X1 sDrive20d&#x27;,\n",
       "       &#x27;BMW X1 xDrive20d&#x27;, &#x27;Chevrolet Beat&#x27;, &#x27;Chevrolet Beat Diesel&#x27;,\n",
       "       &#x27;Chevrolet Beat LS&#x27;, &#x27;Chevrolet B...\n",
       "       &#x27;Volkswagen Vento Konekt&#x27;, &#x27;Volvo S80 Summum&#x27;], dtype=object),\n",
       "                                                           array([&#x27;Audi&#x27;, &#x27;BMW&#x27;, &#x27;Chevrolet&#x27;, &#x27;Datsun&#x27;, &#x27;Fiat&#x27;, &#x27;Force&#x27;, &#x27;Ford&#x27;,\n",
       "       &#x27;Hindustan&#x27;, &#x27;Honda&#x27;, &#x27;Hyundai&#x27;, &#x27;Jaguar&#x27;, &#x27;Jeep&#x27;, &#x27;Land&#x27;,\n",
       "       &#x27;Mahindra&#x27;, &#x27;Maruti&#x27;, &#x27;Mercedes&#x27;, &#x27;Mini&#x27;, &#x27;Mitsubishi&#x27;, &#x27;Nissan&#x27;,\n",
       "       &#x27;Renault&#x27;, &#x27;Skoda&#x27;, &#x27;Tata&#x27;, &#x27;Toyota&#x27;, &#x27;Volkswagen&#x27;, &#x27;Volvo&#x27;],\n",
       "      dtype=object),\n",
       "                                                           array([&#x27;Diesel&#x27;, &#x27;LPG&#x27;, &#x27;Petrol&#x27;], dtype=object)]),\n",
       "                                 [&#x27;name&#x27;, &#x27;company&#x27;, &#x27;fuel_type&#x27;])])</pre></div></div></div><div class=\"sk-parallel\"><div class=\"sk-parallel-item\"><div class=\"sk-item\"><div class=\"sk-label-container\"><div class=\"sk-label sk-toggleable\"><input class=\"sk-toggleable__control sk-hidden--visually\" id=\"sk-estimator-id-19\" type=\"checkbox\" ><label for=\"sk-estimator-id-19\" class=\"sk-toggleable__label sk-toggleable__label-arrow\">onehotencoder</label><div class=\"sk-toggleable__content\"><pre>[&#x27;name&#x27;, &#x27;company&#x27;, &#x27;fuel_type&#x27;]</pre></div></div></div><div class=\"sk-serial\"><div class=\"sk-item\"><div class=\"sk-estimator sk-toggleable\"><input class=\"sk-toggleable__control sk-hidden--visually\" id=\"sk-estimator-id-20\" type=\"checkbox\" ><label for=\"sk-estimator-id-20\" class=\"sk-toggleable__label sk-toggleable__label-arrow\">OneHotEncoder</label><div class=\"sk-toggleable__content\"><pre>OneHotEncoder(categories=[array([&#x27;Audi A3 Cabriolet&#x27;, &#x27;Audi A4 1.8&#x27;, &#x27;Audi A4 2.0&#x27;, &#x27;Audi A6 2.0&#x27;,\n",
       "       &#x27;Audi A8&#x27;, &#x27;Audi Q3 2.0&#x27;, &#x27;Audi Q5 2.0&#x27;, &#x27;Audi Q7&#x27;, &#x27;BMW 3 Series&#x27;,\n",
       "       &#x27;BMW 5 Series&#x27;, &#x27;BMW 7 Series&#x27;, &#x27;BMW X1&#x27;, &#x27;BMW X1 sDrive20d&#x27;,\n",
       "       &#x27;BMW X1 xDrive20d&#x27;, &#x27;Chevrolet Beat&#x27;, &#x27;Chevrolet Beat Diesel&#x27;,\n",
       "       &#x27;Chevrolet Beat LS&#x27;, &#x27;Chevrolet Beat LT&#x27;, &#x27;Chevrolet Beat PS&#x27;,\n",
       "       &#x27;Chevrolet Cruze LTZ&#x27;, &#x27;Chevrolet Enjoy&#x27;, &#x27;Chevrolet E...\n",
       "       &#x27;Volkswagen Vento Comfortline&#x27;, &#x27;Volkswagen Vento Highline&#x27;,\n",
       "       &#x27;Volkswagen Vento Konekt&#x27;, &#x27;Volvo S80 Summum&#x27;], dtype=object),\n",
       "                          array([&#x27;Audi&#x27;, &#x27;BMW&#x27;, &#x27;Chevrolet&#x27;, &#x27;Datsun&#x27;, &#x27;Fiat&#x27;, &#x27;Force&#x27;, &#x27;Ford&#x27;,\n",
       "       &#x27;Hindustan&#x27;, &#x27;Honda&#x27;, &#x27;Hyundai&#x27;, &#x27;Jaguar&#x27;, &#x27;Jeep&#x27;, &#x27;Land&#x27;,\n",
       "       &#x27;Mahindra&#x27;, &#x27;Maruti&#x27;, &#x27;Mercedes&#x27;, &#x27;Mini&#x27;, &#x27;Mitsubishi&#x27;, &#x27;Nissan&#x27;,\n",
       "       &#x27;Renault&#x27;, &#x27;Skoda&#x27;, &#x27;Tata&#x27;, &#x27;Toyota&#x27;, &#x27;Volkswagen&#x27;, &#x27;Volvo&#x27;],\n",
       "      dtype=object),\n",
       "                          array([&#x27;Diesel&#x27;, &#x27;LPG&#x27;, &#x27;Petrol&#x27;], dtype=object)])</pre></div></div></div></div></div></div><div class=\"sk-parallel-item\"><div class=\"sk-item\"><div class=\"sk-label-container\"><div class=\"sk-label sk-toggleable\"><input class=\"sk-toggleable__control sk-hidden--visually\" id=\"sk-estimator-id-21\" type=\"checkbox\" ><label for=\"sk-estimator-id-21\" class=\"sk-toggleable__label sk-toggleable__label-arrow\">remainder</label><div class=\"sk-toggleable__content\"><pre>[&#x27;year&#x27;, &#x27;kms_driven&#x27;]</pre></div></div></div><div class=\"sk-serial\"><div class=\"sk-item\"><div class=\"sk-estimator sk-toggleable\"><input class=\"sk-toggleable__control sk-hidden--visually\" id=\"sk-estimator-id-22\" type=\"checkbox\" ><label for=\"sk-estimator-id-22\" class=\"sk-toggleable__label sk-toggleable__label-arrow\">passthrough</label><div class=\"sk-toggleable__content\"><pre>passthrough</pre></div></div></div></div></div></div></div></div><div class=\"sk-item\"><div class=\"sk-estimator sk-toggleable\"><input class=\"sk-toggleable__control sk-hidden--visually\" id=\"sk-estimator-id-23\" type=\"checkbox\" ><label for=\"sk-estimator-id-23\" class=\"sk-toggleable__label sk-toggleable__label-arrow\">LinearRegression</label><div class=\"sk-toggleable__content\"><pre>LinearRegression()</pre></div></div></div></div></div></div></div>"
      ],
      "text/plain": [
       "Pipeline(steps=[('columntransformer',\n",
       "                 ColumnTransformer(remainder='passthrough',\n",
       "                                   transformers=[('onehotencoder',\n",
       "                                                  OneHotEncoder(categories=[array(['Audi A3 Cabriolet', 'Audi A4 1.8', 'Audi A4 2.0', 'Audi A6 2.0',\n",
       "       'Audi A8', 'Audi Q3 2.0', 'Audi Q5 2.0', 'Audi Q7', 'BMW 3 Series',\n",
       "       'BMW 5 Series', 'BMW 7 Series', 'BMW X1', 'BMW X1 sDrive20d',\n",
       "       'BMW X1 xDrive20d', 'Chevrolet Beat', 'Chevrolet Beat...\n",
       "                                                                            array(['Audi', 'BMW', 'Chevrolet', 'Datsun', 'Fiat', 'Force', 'Ford',\n",
       "       'Hindustan', 'Honda', 'Hyundai', 'Jaguar', 'Jeep', 'Land',\n",
       "       'Mahindra', 'Maruti', 'Mercedes', 'Mini', 'Mitsubishi', 'Nissan',\n",
       "       'Renault', 'Skoda', 'Tata', 'Toyota', 'Volkswagen', 'Volvo'],\n",
       "      dtype=object),\n",
       "                                                                            array(['Diesel', 'LPG', 'Petrol'], dtype=object)]),\n",
       "                                                  ['name', 'company',\n",
       "                                                   'fuel_type'])])),\n",
       "                ('linearregression', LinearRegression())])"
      ]
     },
     "execution_count": 54,
     "metadata": {},
     "output_type": "execute_result"
    }
   ],
   "source": [
    "pipe.fit(X_train, y_train)"
   ]
  },
  {
   "cell_type": "code",
   "execution_count": 56,
   "id": "72055468",
   "metadata": {},
   "outputs": [],
   "source": [
    "y_pred = pipe.predict(x_test)"
   ]
  },
  {
   "cell_type": "code",
   "execution_count": 57,
   "id": "f3c40e52",
   "metadata": {},
   "outputs": [
    {
     "data": {
      "text/plain": [
       "array([ 437185.39398032,  213159.38881122,  505930.60487378,\n",
       "        493320.40514125,  279221.47161075,  292477.72814059,\n",
       "        -13499.16253079,  136891.26110329,  143063.54198156,\n",
       "        229310.63262912,  580142.65036311,  250424.44193744,\n",
       "        454923.45929391,  262354.57552237,  398936.60435399,\n",
       "        363189.87642625,  123355.85746275, 1370497.56960722,\n",
       "        104877.89990497,  629360.77463416,  248183.15215417,\n",
       "        511158.63368861,  540186.3701099 ,  382683.46452157,\n",
       "        259479.19059645,  437229.40882216,  193412.03001838,\n",
       "        352065.07622948,   93709.39264976,  247071.54816027,\n",
       "        471597.86241217,  334497.69091076,  511935.79313841,\n",
       "        531172.03244295,  259019.80303191,  355984.99535172,\n",
       "        439156.50082576,  304424.96141236,  549592.13389254,\n",
       "         97889.16584193, 1286174.34226931,  362932.40797988,\n",
       "        498725.91250571,  485359.94949254,  -35003.6658594 ,\n",
       "        459906.78212905,  897899.88971088,  328387.70227331,\n",
       "        737192.98859204,  321642.05016448,  329305.71060911,\n",
       "        573311.56464927,  298675.29453403,  221559.98414124,\n",
       "          7533.25751284,  507787.78531969,  277794.92596801,\n",
       "        542563.7096657 ,  146949.35198032,  459292.62789322,\n",
       "        564319.03302865,  395200.89046057,  355579.05657969,\n",
       "        486569.45439135,  271275.95172162,  212884.74406384,\n",
       "        327469.89779216,  510112.82001785,  464446.21325848,\n",
       "        273267.39966775,  278369.90866587,  224627.2253688 ,\n",
       "        479820.48968092,  511780.6000306 ,  119378.96634588,\n",
       "        453006.4197712 ,  780859.07879296,  124249.65979308,\n",
       "        238854.70226959,  547969.71022572,  566672.16657897,\n",
       "        230184.91138594,  578958.71968421,  527499.91146303,\n",
       "        265336.02037408,  183511.6799276 ,  266897.71039526,\n",
       "        652663.39727688,  267257.50907502,  197001.98783515,\n",
       "        564786.77350804,  282586.8525882 ,  251238.47928155,\n",
       "        256443.28640972,  224292.57320398,  373777.27663399,\n",
       "        564904.82416952,  759030.90352006,  150230.90347459,\n",
       "        362622.17219227,  228663.58148623,  593663.92002343,\n",
       "        248640.34524328,  312014.93690533, 1982628.62561692,\n",
       "        343762.49244711,  374428.50500938,  218749.47939184,\n",
       "        212632.89172322,  418408.8144058 , 1030210.87942536,\n",
       "        498780.18623119,  407654.2704851 ,  507650.81695087,\n",
       "        272327.91696075,  749266.47047006,  296852.25976703,\n",
       "        267436.26954109,  684151.93027011,  -38593.02036341,\n",
       "         52287.61293335,  425166.66393322,  356957.12115081,\n",
       "        553099.95063028,  -19755.77884306,  236367.55340664,\n",
       "        177164.44934511,  365927.40014691,  305955.44259529,\n",
       "         57063.49710649,  177164.44934511, 1192104.58017629,\n",
       "       1982628.62561692,  338282.89610088,  479262.3442016 ,\n",
       "       1982628.62561692,  851007.83223888,  582824.27878217,\n",
       "        534447.75932161,  276717.43414098,  242006.03031329,\n",
       "        411467.30415158,  438304.2098233 ,  419956.18435456,\n",
       "        245777.37896393,  583231.98966427, 1054470.6776911 ,\n",
       "        524449.02576294,  308919.1262621 ,  221701.18005154,\n",
       "        396713.47984967,  119427.4824785 ,  105009.4314414 ,\n",
       "        249082.32573463,  593351.45132157,  275886.30402785,\n",
       "        221701.18005154,  332329.00801484,  374738.47154787,\n",
       "        759030.90352006, 1819257.68855612,  271547.76026057,\n",
       "        316349.16338985,  293936.79381763,  232536.02292831,\n",
       "        371095.86964302,  558691.39443534,  218758.68056059,\n",
       "        289095.53662975,  263590.7011647 ,  221727.99412145,\n",
       "        296937.6101883 ,  346341.43667877,  322312.08463186,\n",
       "        365079.8113203 ,  498902.18064694,  244350.22939363,\n",
       "        596761.47964904,  342699.45685262,  269166.94946318,\n",
       "        547969.71022572,  762139.54802493,  390443.1582177 ,\n",
       "        204536.29382159,  563641.54313008,  320549.5871035 ,\n",
       "        633155.94714467,   49711.53895954,  546910.72690156,\n",
       "        541706.9375137 ,  510979.87322254,  180602.24894412,\n",
       "        505222.24578848,  516886.29285666,  683620.2648713 ,\n",
       "        693671.96552391,  453926.94656948,  285429.07368807,\n",
       "        410268.71123762,  221333.80423976,  304424.96141236,\n",
       "        355318.38215789,  180083.20795518,  517298.60712035,\n",
       "        352231.74038191,  163841.34091383,  312414.23665822,\n",
       "        375100.9510476 ,  349012.54845431,  395004.27321112,\n",
       "        438325.79993558,  335651.72700316,  547969.71022572,\n",
       "        496943.69364934,  332107.99197715,   -9167.14182802,\n",
       "        323307.70640995,   28322.24320191,  437185.39398032,\n",
       "        360370.24167913,  590989.39599109,  255707.49093317,\n",
       "         98496.10874464,  120993.24126324,  147183.61848895,\n",
       "        361905.28966045,  770167.16509442,  110624.24434236,\n",
       "        357482.05036733,  250620.01471541,  498902.18064694,\n",
       "        486150.31072612,  286580.63856982,  392514.12982145,\n",
       "        287149.28576517,  307763.05994696,  528386.06694936,\n",
       "        827347.09695055,  281743.92611938,  196683.73543191,\n",
       "        549592.13389254,  201804.77481356,  535476.73985239,\n",
       "         77331.71224448,  256443.28640972, 1098442.06735983,\n",
       "        293711.5353121 ,  433507.14548094,  101024.13914357,\n",
       "        483149.90012283,    9000.34901966,   56015.24148381,\n",
       "        296593.99480313,  530805.05878241,   84602.47352018,\n",
       "        475170.18163039,  209131.78106171,  557568.9622819 ,\n",
       "        179859.9080353 ,  485618.34026092,  224090.9439706 ,\n",
       "        665628.23438293,  373697.36268553,  350800.15311496,\n",
       "        462041.42746774,  270430.53920006,  455375.71076412,\n",
       "        323953.82751238,  240138.93118126,  318603.46038693,\n",
       "        373543.64070235,  486150.31072612,  218798.25441511,\n",
       "        297378.11909863, 1815316.02027939,  250147.74792157,\n",
       "        252917.01377364,  218758.68056059,  246675.8494721 ,\n",
       "        347092.3968313 ,   78472.20470248,  183511.6799276 ,\n",
       "        168551.72825889,  591120.21867219,  379944.75630784,\n",
       "        278738.84421639,  284810.21294209,  397969.49887147,\n",
       "        624902.07120997,  310535.86167231,  253656.54529774,\n",
       "        382743.21876562,  293803.51776168,  441007.20692655,\n",
       "        296947.39587188,  469970.9653912 ,  526236.63042358,\n",
       "        479820.48968092,  171518.32949698,  666711.52280729,\n",
       "        434189.62905619,  250620.01471541,  617500.49557394,\n",
       "        656831.04244206,  490379.02694834,  548820.32597797,\n",
       "        520553.58231822,  632946.29218289,  631484.98536456,\n",
       "        362296.07409593,  564319.03302865,  257959.68709202,\n",
       "        384653.23424187,  291234.18470879,  663214.96809106,\n",
       "        221701.18005154,   93927.77314562,  575610.1898822 ,\n",
       "        530805.05878241,  362844.86434927,  307077.14455253,\n",
       "        473593.4651784 , 1982628.62561692,  123458.29958488,\n",
       "        307763.05994696,  322942.96167856,  260204.44852837,\n",
       "        405902.31241898,  540882.74041241,  221559.98414124,\n",
       "        437976.58347766,  213154.59424509,  365056.9755583 ,\n",
       "        251541.98681801,  569053.607409  ,  372060.50714593,\n",
       "        362576.84997737,  209884.43711735,   95046.0742714 ,\n",
       "        520873.81644164,  255265.83324455,  124249.65979308,\n",
       "        510979.87322254,  422777.93053137, 1348309.67616207,\n",
       "        436228.77464611,  376992.93668476,  356772.66506377,\n",
       "        450569.4622259 ,  670018.76630359,  302615.53564689,\n",
       "        251035.1830889 ,  360645.22653288,  359627.59725657,\n",
       "         -4388.33873733,  103926.31531013,  247253.94808729,\n",
       "        483284.68528993,  441007.20692655,  524038.93790907,\n",
       "        334655.59443944,  256728.04743757,  363975.24460839,\n",
       "        351048.54436933,  428978.98570904,  263389.89365752,\n",
       "        -49145.0355239 ,  256270.55970515,  336146.43776765,\n",
       "        428144.331499  ,  269273.23915869,  202072.6633671 ,\n",
       "        435294.75014159,  281175.16993873, 1383859.59162437,\n",
       "        258908.78011806,  159688.20737286,  512739.14642391,\n",
       "        110489.45917526,  445295.97485333,  375003.23554289,\n",
       "        693671.96552391,  157408.39410859,  494083.9525374 ,\n",
       "         34468.02802522, 1636415.12751604,  498902.18064694,\n",
       "        165408.60023966,  564786.77350804,  649009.80078453,\n",
       "        204085.01389419,  470367.89866013,  315095.64364919,\n",
       "        304424.96141236,  331551.14732013,  361371.18707537,\n",
       "        971104.18998483, 1113695.69792914,  256728.04743757,\n",
       "        264203.85654779,  590737.43691416,  131873.32251948,\n",
       "        370513.0217734 , 1078845.80867627,  234740.71546276,\n",
       "        407334.44075551,  245636.18536165,  326035.25210138,\n",
       "        118582.48186756,  339428.63041877,  112277.70208221,\n",
       "        258908.4351494 ,  539299.82762158,  434436.59440579,\n",
       "        337718.38339937,  534464.88686059,  361842.06966858,\n",
       "        214725.34933658,  120346.1290606 ,  -60762.80028329,\n",
       "        580067.61093556,  539945.75150401,  505746.56940969,\n",
       "        277543.05516686,  396713.47984967,  257224.40681762,\n",
       "        262654.61338311,  123937.54379502,  183330.3272228 ,\n",
       "        383617.91610672, 1429646.90519492,  397099.07428284,\n",
       "        495663.13274736,  244430.57331168, 1982628.62561692,\n",
       "        349759.29676471,  266897.71039526,  218758.68056059,\n",
       "        241226.63468125,  348233.25333806,  666711.52280729,\n",
       "        575340.9722518 ,  443266.19272666,  326450.77841631,\n",
       "        536851.67922584,  285545.48050658,  363448.58193904,\n",
       "        438593.33826264,  329305.71060911,  564786.77350804,\n",
       "        183511.6799276 ,  274929.48451168,  154670.87038793,\n",
       "        242578.69531064,  326678.76605007,  434460.80041126,\n",
       "        573311.56464927,  256568.46775061,  273528.51735874,\n",
       "        235878.45838787,  468580.29399949,  629360.77463416,\n",
       "        150352.63991668,  627201.02392463,  341733.03205328,\n",
       "        272315.47010426,  414907.72830577,  540882.74041241,\n",
       "        506605.00328011,  485741.36900192,  372029.42245571,\n",
       "        512597.11904688,  738007.42185394,  -69654.25604884,\n",
       "         54735.35327408,  221523.93562805,  386262.86715733,\n",
       "        280152.26984997,  106441.00577015,  228697.47263222,\n",
       "        151989.11842831,  506252.74503304,  208176.3269281 ,\n",
       "        362576.84997737,  696534.25362194,  -52785.97189393,\n",
       "        459705.71952553,  652663.39727688,  540882.74041241,\n",
       "        580142.65036311,  375212.67633889,  262990.59390463,\n",
       "        122462.05513243,  464223.10617311,  285667.55933206,\n",
       "        464675.54399281,  350999.34740667,  534464.88686059,\n",
       "        410415.33891244,   36327.28304297,  511935.79313841,\n",
       "        433654.19950086,  253722.95724287,  498834.78806338,\n",
       "        279011.6432669 ,  570425.05943502, 1258661.9933218 ,\n",
       "        417389.11172536,  281175.16993873,  222409.77162973,\n",
       "        535470.05707342,  359940.76520129,  188500.57377313,\n",
       "        302112.48997192,  415444.41667128,  271619.47012689,\n",
       "        459425.77112311,  538151.46406439,  281229.63237067,\n",
       "        216016.99990688,  456722.22640899,  303874.53043498,\n",
       "        444312.4348812 , 1320138.83082161,  506252.74503304,\n",
       "        269805.0320257 ,  247221.9572403 ,  256397.99707084,\n",
       "        253911.85527949,  251630.96164479,  -70500.33392086,\n",
       "        429645.2907982 ,  269805.0320257 ,  332745.30649953,\n",
       "        182323.45193226,  105646.52738722,  508392.60794076,\n",
       "        203053.21149651,  296705.83658849,  357056.76942722,\n",
       "        191837.44863456,  357970.32860013,  399201.01329755,\n",
       "        246913.13244418,  324892.57262654,  533724.67492583,\n",
       "        331813.59239825,   78596.4176187 ,  532012.10969272,\n",
       "        298168.3451001 ,  126931.06678405,  244982.50121559,\n",
       "        371290.21412885,  523385.06980561,  305081.52922413,\n",
       "        667038.77672125,  404031.7706979 ,  291061.45800423,\n",
       "        693671.96552391,  317709.65805661,  309936.64106204,\n",
       "        483284.68528993,  496820.7996466 ,  602624.40553542,\n",
       "        461804.87289144,  897899.88971088,  100655.61397289,\n",
       "        335651.72700316,  311788.63441864,  595880.33616655,\n",
       "        431026.27430341,  386618.5385991 ,  541776.54274274,\n",
       "        376565.82669087,  -35709.43562178,  439866.80097128,\n",
       "        456879.14929924,  346331.14146334,  150352.63991668,\n",
       "         97736.74661276,  338307.10210636,  548863.51255604,\n",
       "        302850.6111154 ,  259951.10314746,  494837.15755124,\n",
       "        220507.27076113,  696534.25362194,  507146.54736336,\n",
       "        485867.32912592,  170379.76506191,  498902.18064694,\n",
       "        316368.47210358,  535539.70143446,  255265.83324455,\n",
       "        364736.55109704,  547969.71022572,  240205.97879615,\n",
       "        265177.49831816,  175160.58643317,  218798.25441511,\n",
       "        643336.98923615,  157408.39410859,  440804.61814345,\n",
       "       1319245.02849129,  560811.2162909 ,  253656.54529774,\n",
       "        350800.15311496,  462323.67768722,  491513.12470806,\n",
       "       1084722.91640693,  568709.40234301,  289242.76865336,\n",
       "        251035.1830889 ,  603085.48854486,  366041.00623417,\n",
       "        684151.93027011,  575187.76869135,  344950.83796021,\n",
       "        382029.08987711,  231927.99367739,  265471.92398318,\n",
       "        546973.71922735,  464223.10617311,  505679.17682613,\n",
       "        523385.06980561, 1330797.06620195, 1349560.26068061,\n",
       "        400606.89102059,  459587.66886405,  115327.94394078,\n",
       "        586560.16959507,  181313.27377594,  347924.40163816,\n",
       "       1815316.02027939,  307077.14455253,  269106.49489499,\n",
       "        696534.25362194,  225140.85514772,  145856.35639793,\n",
       "        250013.94339288,  456906.26187307,  230485.07729287,\n",
       "        281748.29972243,  306255.11698131,  351663.970651  ,\n",
       "        637395.38143253,  251630.96164479,  274035.68218135,\n",
       "        266897.71039526,  -28604.42191326,  316368.47210358,\n",
       "        193252.89129094])"
      ]
     },
     "execution_count": 57,
     "metadata": {},
     "output_type": "execute_result"
    }
   ],
   "source": [
    "y_pred"
   ]
  },
  {
   "cell_type": "code",
   "execution_count": 58,
   "id": "a65bb5f4",
   "metadata": {},
   "outputs": [
    {
     "data": {
      "text/plain": [
       "0.5192040777309317"
      ]
     },
     "execution_count": 58,
     "metadata": {},
     "output_type": "execute_result"
    }
   ],
   "source": [
    "r2_score(y_test, y_pred)"
   ]
  },
  {
   "cell_type": "code",
   "execution_count": null,
   "id": "032fbd13",
   "metadata": {},
   "outputs": [],
   "source": []
  }
 ],
 "metadata": {
  "kernelspec": {
   "display_name": "Python 3 (ipykernel)",
   "language": "python",
   "name": "python3"
  },
  "language_info": {
   "codemirror_mode": {
    "name": "ipython",
    "version": 3
   },
   "file_extension": ".py",
   "mimetype": "text/x-python",
   "name": "python",
   "nbconvert_exporter": "python",
   "pygments_lexer": "ipython3",
   "version": "3.10.6"
  }
 },
 "nbformat": 4,
 "nbformat_minor": 5
}
